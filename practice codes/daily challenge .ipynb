{
 "cells": [
  {
   "cell_type": "code",
   "execution_count": 2,
   "metadata": {},
   "outputs": [
    {
     "name": "stdout",
     "output_type": "stream",
     "text": [
      "3\n",
      "0 3\n",
      "1 9\n",
      "2 6\n",
      "9\n"
     ]
    }
   ],
   "source": [
    "from heapq import *\n",
    "\n",
    "n = int(input())\n",
    "orders = []\n",
    "p_queue = []\n",
    "for i in range(n):\n",
    "    arrival_time, duration =map(int,input().split())\n",
    "    heappush(orders,(arrival_time,duration))\n",
    "\n",
    "time_elapsed = 0\n",
    "wait_list = []\n",
    "while orders or p_queue:\n",
    "    while orders and orders[0][0]<=time_elapsed:\n",
    "        arrival_time, duration = heappop(orders)\n",
    "        heappush(p_queue,(duration,arrival_time))\n",
    "\n",
    "    if not p_queue:\n",
    "        arrival_time, duration = heappop(orders)\n",
    "        time_elapsed = arrival_time\n",
    "        heappush(p_queue,(duration,arrival_time))\n",
    "\n",
    "    duration,arrival_time = heappop(p_queue)\n",
    "    time_elapsed+=duration\n",
    "    wait_time = time_elapsed-arrival_time\n",
    "    wait_list.append(wait_time)\n",
    "\n",
    "print(int(sum(wait_list)/n))"
   ]
  },
  {
   "cell_type": "code",
   "execution_count": null,
   "metadata": {},
   "outputs": [],
   "source": []
  }
 ],
 "metadata": {
  "kernelspec": {
   "display_name": "Python 3",
   "language": "python",
   "name": "python3"
  },
  "language_info": {
   "codemirror_mode": {
    "name": "ipython",
    "version": 3
   },
   "file_extension": ".py",
   "mimetype": "text/x-python",
   "name": "python",
   "nbconvert_exporter": "python",
   "pygments_lexer": "ipython3",
   "version": "3.7.3"
  }
 },
 "nbformat": 4,
 "nbformat_minor": 2
}
